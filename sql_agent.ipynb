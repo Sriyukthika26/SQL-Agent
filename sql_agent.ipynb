{
 "cells": [
  {
   "cell_type": "code",
   "execution_count": 25,
   "id": "a3ad829f",
   "metadata": {},
   "outputs": [],
   "source": [
    "import sqlite3"
   ]
  },
  {
   "cell_type": "code",
   "execution_count": 26,
   "id": "8c5c96aa",
   "metadata": {},
   "outputs": [],
   "source": [
    "connection = sqlite3.connect('example.db')"
   ]
  },
  {
   "cell_type": "code",
   "execution_count": 27,
   "id": "8135852d",
   "metadata": {},
   "outputs": [],
   "source": [
    "table_creation_query = \"\"\"\n",
    "CREATE TABLE IF NOT EXISTS employees (\n",
    "    id INTEGER PRIMARY KEY AUTOINCREMENT,\n",
    "    name TEXT NOT NULL,\n",
    "    salary REAL NOT NULL,\n",
    "    email TEXT UNIQUE NOT NULL UNIQUE\n",
    ");\n",
    "\"\"\" \n"
   ]
  },
  {
   "cell_type": "code",
   "execution_count": 28,
   "id": "fb4f6a24",
   "metadata": {},
   "outputs": [],
   "source": [
    "table_creation_query2 = \"\"\"\n",
    "CREATE TABLE IF NOT EXISTS customers (\n",
    "    customers_id INTEGER PRIMARY KEY AUTOINCREMENT,\n",
    "    name TEXT NOT NULL,\n",
    "    email TEXT UNIQUE NOT NULL,\n",
    "    phone TEXT\n",
    ");\n",
    "\"\"\""
   ]
  },
  {
   "cell_type": "code",
   "execution_count": 29,
   "id": "ce78a498",
   "metadata": {},
   "outputs": [],
   "source": [
    "table_creation_query3 = \"\"\"\n",
    "CREATE TABLE IF NOT EXISTS orders (\n",
    "    order_id INTEGER PRIMARY KEY AUTOINCREMENT,\n",
    "    customer_id INTEGER NOT NULL,\n",
    "    order_date TEXT NOT NULL,\n",
    "    total_amount REAL NOT NULL,\n",
    "    FOREIGN KEY (customer_id) REFERENCES customers (customers_id)\n",
    ");\n",
    "\"\"\""
   ]
  },
  {
   "cell_type": "code",
   "execution_count": 30,
   "id": "7facf458",
   "metadata": {},
   "outputs": [
    {
     "data": {
      "text/plain": [
       "<sqlite3.Cursor at 0x20ef00a53c0>"
      ]
     },
     "execution_count": 30,
     "metadata": {},
     "output_type": "execute_result"
    }
   ],
   "source": [
    "cursor = connection.cursor()\n",
    "cursor.execute(table_creation_query)\n",
    "cursor.execute(table_creation_query2)\n",
    "cursor.execute(table_creation_query3)"
   ]
  },
  {
   "cell_type": "code",
   "execution_count": 31,
   "id": "c58bb495",
   "metadata": {},
   "outputs": [],
   "source": [
    "#employees_data\n",
    "employees_data = [\n",
    "    ('Alice', 60000, 'alice@example.com'),\n",
    "    ('Bob', 55000, 'bob@example.com'),\n",
    "    ('Charlie', 70000, 'charlie@example.com'),\n",
    "]\n",
    "\n",
    "#customers_data\n",
    "customers_data = [\n",
    "    ('Acme Corp', 'contact@acme.com', '555-1234'),\n",
    "    ('Globex Inc', 'info@globex.com', '555-5678'),\n",
    "    ('Soylent Corp', 'info@soylent.com', '555-9012'),\n",
    "]\n",
    "\n",
    "# orders_data\n",
    "orders_data = [\n",
    "    (1, '2025-07-20', 250.75),\n",
    "    (2, '2025-07-21', 350.00),\n",
    "    (1, '2025-07-22', 150.25),\n",
    "]"
   ]
  },
  {
   "cell_type": "code",
   "execution_count": 32,
   "id": "5253e8b0",
   "metadata": {},
   "outputs": [],
   "source": [
    "insert_query = \"\"\"\n",
    "INSERT INTO employees (name, salary, email) VALUES (?, ?, ?);\n",
    "\"\"\"\n",
    "\n",
    "insert_query2 = \"\"\"\n",
    "INSERT INTO customers (name, email, phone) VALUES (?, ?, ?);\n",
    "\"\"\"\n",
    "\n",
    "insert_query3 = \"\"\"\n",
    "INSERT INTO orders (customer_id, order_date, total_amount) VALUES (?, ?, ?);\n",
    "\"\"\""
   ]
  },
  {
   "cell_type": "code",
   "execution_count": 33,
   "id": "87c630aa",
   "metadata": {},
   "outputs": [
    {
     "data": {
      "text/plain": [
       "<sqlite3.Cursor at 0x20ef00a53c0>"
      ]
     },
     "execution_count": 33,
     "metadata": {},
     "output_type": "execute_result"
    }
   ],
   "source": [
    "cursor.executemany(insert_query, employees_data)\n",
    "cursor.executemany(insert_query2, customers_data)\n",
    "cursor.executemany(insert_query3, orders_data)"
   ]
  },
  {
   "cell_type": "code",
   "execution_count": 34,
   "id": "9be7924e",
   "metadata": {},
   "outputs": [],
   "source": [
    "connection.commit()"
   ]
  },
  {
   "cell_type": "code",
   "execution_count": 35,
   "id": "f84f7db7",
   "metadata": {},
   "outputs": [
    {
     "data": {
      "text/plain": [
       "<sqlite3.Cursor at 0x20ef00a53c0>"
      ]
     },
     "execution_count": 35,
     "metadata": {},
     "output_type": "execute_result"
    }
   ],
   "source": [
    "cursor.execute(\"SELECT * FROM employees;\")"
   ]
  },
  {
   "cell_type": "code",
   "execution_count": 36,
   "id": "364d201a",
   "metadata": {},
   "outputs": [
    {
     "name": "stdout",
     "output_type": "stream",
     "text": [
      "(1, 'Alice', 60000.0, 'alice@example.com')\n",
      "(2, 'Bob', 55000.0, 'bob@example.com')\n",
      "(3, 'Charlie', 70000.0, 'charlie@example.com')\n"
     ]
    }
   ],
   "source": [
    "for row in cursor.fetchall():\n",
    "    print(row)"
   ]
  }
 ],
 "metadata": {
  "kernelspec": {
   "display_name": "venv",
   "language": "python",
   "name": "python3"
  },
  "language_info": {
   "codemirror_mode": {
    "name": "ipython",
    "version": 3
   },
   "file_extension": ".py",
   "mimetype": "text/x-python",
   "name": "python",
   "nbconvert_exporter": "python",
   "pygments_lexer": "ipython3",
   "version": "3.11.4"
  }
 },
 "nbformat": 4,
 "nbformat_minor": 5
}
